{
 "cells": [
  {
   "cell_type": "code",
   "execution_count": 1,
   "metadata": {},
   "outputs": [],
   "source": [
    "from tensorflow.compat.v1 import ConfigProto\n",
    "from tensorflow.compat.v1 import InteractiveSession\n",
    "config = ConfigProto()\n",
    "config.gpu_options.allow_growth = True\n",
    "session = InteractiveSession(config=config)"
   ]
  },
  {
   "cell_type": "code",
   "execution_count": 2,
   "metadata": {},
   "outputs": [],
   "source": [
    "import pandas as pd\n",
    "import numpy as np\n",
    "import datetime\n",
    "from pandas_summary import DataFrameSummary"
   ]
  },
  {
   "cell_type": "code",
   "execution_count": 3,
   "metadata": {},
   "outputs": [],
   "source": [
    "from tensorflow.keras.utils import to_categorical"
   ]
  },
  {
   "cell_type": "code",
   "execution_count": 4,
   "metadata": {},
   "outputs": [],
   "source": [
    "df = pd.read_feather('train_normalized_data.fth')\n",
    "df_test = pd.read_feather('test_normalized_data.fth')"
   ]
  },
  {
   "cell_type": "code",
   "execution_count": 5,
   "metadata": {},
   "outputs": [],
   "source": [
    "cat_vars = ['Store', 'DayOfWeek', 'Year', 'Month', 'Day', 'StateHoliday', 'CompetitionMonthsOpen', 'Promo2Weeks', \n",
    "            'StoreType', 'Assortment', 'PromoInterval', 'CompetitionOpenSinceYear', 'Promo2SinceYear', 'State', \n",
    "            'Week', 'Events', 'Promo_fw', 'Promo_bw', 'StateHoliday_bool_fw', 'StateHoliday_bool_bw', 'SchoolHoliday_fw', 'SchoolHoliday_bw']\n",
    "\n",
    "cat_vars = ['Store', 'DayOfWeek']"
   ]
  },
  {
   "cell_type": "code",
   "execution_count": 6,
   "metadata": {},
   "outputs": [],
   "source": [
    "contin_vars = ['CompetitionDistance', \n",
    "   'Max_TemperatureC', 'Mean_TemperatureC', 'Min_TemperatureC', 'Precipitationmm',\n",
    "   'Max_Humidity', 'Mean_Humidity', 'Min_Humidity', 'Max_Wind_SpeedKm_h', \n",
    "   'Mean_Wind_SpeedKm_h', 'CloudCover', 'trend', 'trend_DE',\n",
    "   'AfterStateHoliday_bool', 'BeforeStateHoliday_bool', 'Promo', 'SchoolHoliday', 'StateHoliday_bool']\n",
    "contin_vars = ['BeforeStateHoliday_bool', 'Max_TemperatureC']"
   ]
  },
  {
   "cell_type": "code",
   "execution_count": 7,
   "metadata": {},
   "outputs": [],
   "source": [
    "uniques = DataFrameSummary(df[cat_vars]).summary().loc[['uniques']]"
   ]
  },
  {
   "cell_type": "code",
   "execution_count": 8,
   "metadata": {},
   "outputs": [
    {
     "data": {
      "text/html": [
       "<div>\n",
       "<style scoped>\n",
       "    .dataframe tbody tr th:only-of-type {\n",
       "        vertical-align: middle;\n",
       "    }\n",
       "\n",
       "    .dataframe tbody tr th {\n",
       "        vertical-align: top;\n",
       "    }\n",
       "\n",
       "    .dataframe thead th {\n",
       "        text-align: right;\n",
       "    }\n",
       "</style>\n",
       "<table border=\"1\" class=\"dataframe\">\n",
       "  <thead>\n",
       "    <tr style=\"text-align: right;\">\n",
       "      <th></th>\n",
       "      <th>uniques</th>\n",
       "    </tr>\n",
       "  </thead>\n",
       "  <tbody>\n",
       "    <tr>\n",
       "      <th>Store</th>\n",
       "      <td>1115</td>\n",
       "    </tr>\n",
       "    <tr>\n",
       "      <th>DayOfWeek</th>\n",
       "      <td>7</td>\n",
       "    </tr>\n",
       "  </tbody>\n",
       "</table>\n",
       "</div>"
      ],
      "text/plain": [
       "          uniques\n",
       "Store        1115\n",
       "DayOfWeek       7"
      ]
     },
     "execution_count": 8,
     "metadata": {},
     "output_type": "execute_result"
    }
   ],
   "source": [
    "uniques.T"
   ]
  },
  {
   "cell_type": "markdown",
   "metadata": {},
   "source": [
    "# Asignación de dimensión de embeddings"
   ]
  },
  {
   "cell_type": "code",
   "execution_count": 9,
   "metadata": {},
   "outputs": [],
   "source": [
    "cat_var_dict = {'Store': 50, 'DayOfWeek': 2, 'Year': 2, 'Month': 2,\n",
    "'Day': 10, 'StateHoliday': 2, 'CompetitionMonthsOpen': 2,\n",
    "'Promo2Weeks': 1, 'StoreType': 2, 'Assortment': 3, 'PromoInterval': 3,\n",
    "'CompetitionOpenSinceYear': 4, 'Promo2SinceYear': 4, 'State': 6,\n",
    "'Week': 25, 'Events': 4, 'Promo_fw': 1,\n",
    "'Promo_bw': 1, 'StateHoliday_bool_fw': 1,\n",
    "'StateHoliday_bool_bw': 1, 'SchoolHoliday_fw': 1,\n",
    "'SchoolHoliday_bw': 1}"
   ]
  },
  {
   "cell_type": "code",
   "execution_count": 10,
   "metadata": {},
   "outputs": [
    {
     "name": "stdout",
     "output_type": "stream",
     "text": [
      "Store 50 1115 [   0    1    2 ... 1112 1113 1114]\n",
      "\n",
      "DayOfWeek 2 7 [0 1 2 3 4 5 6]\n",
      "\n"
     ]
    }
   ],
   "source": [
    "for v in cat_vars:\n",
    "    uniques_ = df[v].unique()\n",
    "    uniques_.sort()\n",
    "    print(v, cat_var_dict[v], len(uniques_), uniques_)\n",
    "    print()"
   ]
  },
  {
   "cell_type": "markdown",
   "metadata": {},
   "source": [
    "# Definición de modelo"
   ]
  },
  {
   "cell_type": "code",
   "execution_count": 11,
   "metadata": {},
   "outputs": [],
   "source": [
    "add_customers = True\n",
    "log_output = False\n",
    "output_activation = 'linear'"
   ]
  },
  {
   "cell_type": "code",
   "execution_count": 12,
   "metadata": {},
   "outputs": [],
   "source": [
    "from tensorflow.keras.models import Model\n",
    "from tensorflow.keras.callbacks import ModelCheckpoint\n",
    "from tensorflow.keras.optimizers import Adam\n",
    "from tensorflow.keras.layers import Embedding, Input, Flatten, Concatenate, Dense, BatchNormalization, Activation, LeakyReLU, Dropout\n",
    "from tensorflow.keras.regularizers import l2"
   ]
  },
  {
   "cell_type": "code",
   "execution_count": 13,
   "metadata": {},
   "outputs": [],
   "source": [
    "def get_cat_vars_model(cat_vars, uniques, cat_var_dict):\n",
    "    cat_vars_embed_outs = []\n",
    "    cat_var_inputs = []\n",
    "    for cat_var in cat_vars:\n",
    "        cat_var_in = Input(shape=(1,), name=f\"{cat_var}_input\")\n",
    "        cat_var_inputs.append(cat_var_in)\n",
    "        embed_out = Embedding(uniques[cat_var][0], cat_var_dict[cat_var], name=f'{cat_var}_Embed')(cat_var_in)\n",
    "        flatten_out = Flatten(name=f\"{cat_var}_flat\")(embed_out)\n",
    "        cat_vars_embed_outs.append(flatten_out)\n",
    "    return cat_var_inputs, cat_vars_embed_outs\n",
    "\n",
    "def get_cont_vars_input(contin_vars, dense_layer=False):\n",
    "    cont_vars_inputs = []\n",
    "    cont_vars_outputs = []\n",
    "    for cont_var in contin_vars:\n",
    "        cont_var_in = Input(shape=(1,), name=f\"{cont_var}_input\")\n",
    "        cont_vars_inputs.append(cont_var_in)\n",
    "        if dense_layer:\n",
    "            cont_var_out = Dense(1, name=f\"{cont_var}_input\", activation = 'linear')(cont_var_in)\n",
    "            cont_vars_outputs.append(cont_var_out)\n",
    "        else:\n",
    "            cont_vars_outputs.append(cont_var_in)\n",
    "    return cont_vars_inputs, cont_vars_outputs"
   ]
  },
  {
   "cell_type": "code",
   "execution_count": 14,
   "metadata": {},
   "outputs": [],
   "source": [
    "cat_var_inputs, cat_vars_embed_outs = get_cat_vars_model(cat_vars, uniques, cat_var_dict)\n",
    "cont_vars_inputs,  cont_vars_outs= get_cont_vars_input(contin_vars)"
   ]
  },
  {
   "cell_type": "code",
   "execution_count": 15,
   "metadata": {},
   "outputs": [],
   "source": [
    "# Descomentar para ver resultados\n",
    "# cat_vars_embed_outs\n",
    "# cat_var_inputs\n",
    "# cont_vars_inputs\n",
    "# cont_vars_outs"
   ]
  },
  {
   "cell_type": "code",
   "execution_count": 16,
   "metadata": {},
   "outputs": [],
   "source": [
    "first_hidden_units = 1000\n",
    "second_hidden_units = 500\n",
    "l2_lambda = 1e-3\n",
    "merged = Concatenate(name='All_Concatenate')(cat_vars_embed_outs + cont_vars_inputs)\n",
    "x = Dense(first_hidden_units, kernel_initializer=\"uniform\", kernel_regularizer=l2(l2_lambda))(merged)\n",
    "# x = BatchNormalization()(x)\n",
    "x = Activation('relu')(x)\n",
    "# x = LeakyReLU()(x)\n",
    "x = Dense(second_hidden_units, kernel_initializer=\"uniform\", kernel_regularizer=l2(l2_lambda))(x)\n",
    "# x = BatchNormalization()(x)\n",
    "x = Activation('relu')(x)\n",
    "# x = LeakyReLU()(x)\n",
    "\n",
    "output_1 = Dense(1, name='Sales', activation=output_activation)(x)\n",
    "output_2 = Dense(1, name='Customers', activation=output_activation)(x)"
   ]
  },
  {
   "cell_type": "code",
   "execution_count": 17,
   "metadata": {},
   "outputs": [],
   "source": [
    "if add_customers:\n",
    "    model = Model(cat_var_inputs + cont_vars_inputs, [output_1, output_2])\n",
    "else: \n",
    "    model = Model(cat_var_inputs + cont_vars_inputs, [output_1])"
   ]
  },
  {
   "cell_type": "code",
   "execution_count": 18,
   "metadata": {},
   "outputs": [
    {
     "name": "stdout",
     "output_type": "stream",
     "text": [
      "Model: \"model\"\n",
      "__________________________________________________________________________________________________\n",
      "Layer (type)                    Output Shape         Param #     Connected to                     \n",
      "==================================================================================================\n",
      "Store_input (InputLayer)        [(None, 1)]          0                                            \n",
      "__________________________________________________________________________________________________\n",
      "DayOfWeek_input (InputLayer)    [(None, 1)]          0                                            \n",
      "__________________________________________________________________________________________________\n",
      "Store_Embed (Embedding)         (None, 1, 50)        55750       Store_input[0][0]                \n",
      "__________________________________________________________________________________________________\n",
      "DayOfWeek_Embed (Embedding)     (None, 1, 2)         14          DayOfWeek_input[0][0]            \n",
      "__________________________________________________________________________________________________\n",
      "Store_flat (Flatten)            (None, 50)           0           Store_Embed[0][0]                \n",
      "__________________________________________________________________________________________________\n",
      "DayOfWeek_flat (Flatten)        (None, 2)            0           DayOfWeek_Embed[0][0]            \n",
      "__________________________________________________________________________________________________\n",
      "BeforeStateHoliday_bool_input ( [(None, 1)]          0                                            \n",
      "__________________________________________________________________________________________________\n",
      "Max_TemperatureC_input (InputLa [(None, 1)]          0                                            \n",
      "__________________________________________________________________________________________________\n",
      "All_Concatenate (Concatenate)   (None, 54)           0           Store_flat[0][0]                 \n",
      "                                                                 DayOfWeek_flat[0][0]             \n",
      "                                                                 BeforeStateHoliday_bool_input[0][\n",
      "                                                                 Max_TemperatureC_input[0][0]     \n",
      "__________________________________________________________________________________________________\n",
      "dense (Dense)                   (None, 1000)         55000       All_Concatenate[0][0]            \n",
      "__________________________________________________________________________________________________\n",
      "activation (Activation)         (None, 1000)         0           dense[0][0]                      \n",
      "__________________________________________________________________________________________________\n",
      "dense_1 (Dense)                 (None, 500)          500500      activation[0][0]                 \n",
      "__________________________________________________________________________________________________\n",
      "activation_1 (Activation)       (None, 500)          0           dense_1[0][0]                    \n",
      "__________________________________________________________________________________________________\n",
      "Sales (Dense)                   (None, 1)            501         activation_1[0][0]               \n",
      "__________________________________________________________________________________________________\n",
      "Customers (Dense)               (None, 1)            501         activation_1[0][0]               \n",
      "==================================================================================================\n",
      "Total params: 612,266\n",
      "Trainable params: 612,266\n",
      "Non-trainable params: 0\n",
      "__________________________________________________________________________________________________\n"
     ]
    }
   ],
   "source": [
    "# Descomentar para ver\n",
    "model.summary()"
   ]
  },
  {
   "cell_type": "code",
   "execution_count": 19,
   "metadata": {},
   "outputs": [],
   "source": [
    "model.save_weights('initial_weights.hdf5')"
   ]
  },
  {
   "cell_type": "code",
   "execution_count": 20,
   "metadata": {},
   "outputs": [
    {
     "name": "stdout",
     "output_type": "stream",
     "text": [
      "Cantidad en val: 30188, porcentaje: 0.9642465458145908\n"
     ]
    }
   ],
   "source": [
    "df_train = df[df.Date < datetime.datetime(2015, 7, 1)]  \n",
    "df_val = df[df.Date >= datetime.datetime(2015, 7, 1)]\n",
    "print(f'Cantidad en val: {len(df_val)}, porcentaje: {len(df_train)/(len(df_train) + len(df_val))}')"
   ]
  },
  {
   "cell_type": "code",
   "execution_count": 21,
   "metadata": {},
   "outputs": [],
   "source": [
    "from matplotlib import pyplot as plt\n",
    "# plt.figure(figsize=(20,5))\n",
    "# plt.plot((df_train[df_train['Store']==1]['Sales'].values - df_train[df_train['Store']==1]['Sales'].mean())/df_train[df_train['Store']==1]['Sales'].std())\n",
    "# plt.show()\n",
    "# plt.figure(figsize=(20,5))\n",
    "# plt.plot(np.log(df_train[df_train['Store']==1]['Sales'].values)/np.max(np.log(df_train[df_train['Store']==1]['Sales'].values)))\n",
    "# plt.show()"
   ]
  },
  {
   "cell_type": "code",
   "execution_count": 22,
   "metadata": {},
   "outputs": [],
   "source": [
    "stores_mean = {}\n",
    "for store, g_df in df_train.groupby('Store'):\n",
    "    stores_mean[store] = g_df[g_df['Sales'] > 0]['Sales'].mean()"
   ]
  },
  {
   "cell_type": "code",
   "execution_count": 23,
   "metadata": {},
   "outputs": [
    {
     "name": "stderr",
     "output_type": "stream",
     "text": [
      "c:\\Users\\cpedr\\AppData\\Local\\Programs\\Python\\Python39\\lib\\site-packages\\pandas\\core\\frame.py:3607: SettingWithCopyWarning: \n",
      "A value is trying to be set on a copy of a slice from a DataFrame.\n",
      "Try using .loc[row_indexer,col_indexer] = value instead\n",
      "\n",
      "See the caveats in the documentation: https://pandas.pydata.org/pandas-docs/stable/user_guide/indexing.html#returning-a-view-versus-a-copy\n",
      "  self._set_item(key, value)\n"
     ]
    }
   ],
   "source": [
    "df_train.loc[:, 'mean_by_store'] = df_train['Store'].apply(stores_mean.get)\n",
    "df_val.loc[:, 'mean_by_store'] = df_val['Store'].apply(stores_mean.get)\n",
    "\n",
    "df_train.loc[:, 'Sales_store'] = df_train['Sales'] - df_train['mean_by_store']\n",
    "df_val.loc[:, 'Sales_store'] = df_val['Sales'] - df_val['mean_by_store']"
   ]
  },
  {
   "cell_type": "code",
   "execution_count": 24,
   "metadata": {},
   "outputs": [],
   "source": [
    "from tensorflow.keras import backend as K"
   ]
  },
  {
   "cell_type": "code",
   "execution_count": 25,
   "metadata": {},
   "outputs": [],
   "source": [
    "def rmspe(y_true, y_pred):\n",
    "    return K.sqrt(K.mean(K.square((y_true - y_pred)/y_true)))"
   ]
  },
  {
   "cell_type": "code",
   "execution_count": 26,
   "metadata": {},
   "outputs": [],
   "source": [
    "def get_metric(df, sales_):\n",
    "    return np.sqrt((((df['Sales'] - sales_)/df['Sales'])**2).mean())"
   ]
  },
  {
   "cell_type": "code",
   "execution_count": 27,
   "metadata": {},
   "outputs": [
    {
     "data": {
      "text/plain": [
       "0.3071746085338871"
      ]
     },
     "execution_count": 27,
     "metadata": {},
     "output_type": "execute_result"
    }
   ],
   "source": [
    "get_metric(df_val, df_val['mean_by_store'])"
   ]
  },
  {
   "cell_type": "code",
   "execution_count": 28,
   "metadata": {},
   "outputs": [],
   "source": [
    "all_vars = cat_vars + contin_vars\n",
    "X_train = np.hsplit(df_train[all_vars].values, len(all_vars))\n",
    "X_val = np.hsplit(df_val[all_vars].values, len(all_vars))\n",
    "X_test = np.hsplit(df_test[all_vars].values, len(all_vars))"
   ]
  },
  {
   "cell_type": "code",
   "execution_count": 29,
   "metadata": {},
   "outputs": [],
   "source": [
    "if add_customers:\n",
    "    y_out_columns = ['Sales', 'Customers']\n",
    "else:\n",
    "    y_out_columns = ['Sales_store']\n",
    "    \n",
    "if log_output:\n",
    "    # Escala logaritmica\n",
    "    max_log_y = np.max(np.log(df[y_out_columns])).values\n",
    "    y_train = np.log(df_train[y_out_columns].values)/max_log_y\n",
    "    y_val = np.log(df_val[y_out_columns].values)/max_log_y\n",
    "else:\n",
    "    # Normalización\n",
    "#     y_mean = df_train[y_out_columns].mean().values\n",
    "#     y_std = df_train[y_out_columns].std().values\n",
    "#     y_train = (df_train[y_out_columns].values - y_mean)/y_std\n",
    "#     y_val = (df_val[y_out_columns].values - y_mean)/y_std\n",
    "    y_max = df_train[y_out_columns].max().values\n",
    "    y_train = df_train[y_out_columns].values/y_max\n",
    "    y_val = df_val[y_out_columns].values/y_max\n",
    "y_train = np.hsplit(y_train, y_train.shape[1])\n",
    "y_val = np.hsplit(y_val, y_val.shape[1])"
   ]
  },
  {
   "cell_type": "code",
   "execution_count": 30,
   "metadata": {},
   "outputs": [
    {
     "name": "stderr",
     "output_type": "stream",
     "text": [
      "C:\\Users\\cpedr\\AppData\\Roaming\\Python\\Python39\\site-packages\\tensorflow\\python\\keras\\optimizer_v2\\optimizer_v2.py:374: UserWarning: The `lr` argument is deprecated, use `learning_rate` instead.\n",
      "  warnings.warn(\n"
     ]
    }
   ],
   "source": [
    "lr = 0.001\n",
    "model.compile(optimizer=Adam(lr=lr), metrics=['mse', rmspe], loss='mse')"
   ]
  },
  {
   "cell_type": "code",
   "execution_count": 31,
   "metadata": {},
   "outputs": [],
   "source": [
    "if add_customers:\n",
    "    checkpoint = ModelCheckpoint('bestmodel.hdf5', monitor='val_Sales_mse', verbose=1, save_best_only=True)\n",
    "else:\n",
    "    checkpoint = ModelCheckpoint('bestmodel.hdf5', monitor='val_loss', verbose=1, save_best_only=True)"
   ]
  },
  {
   "cell_type": "code",
   "execution_count": 32,
   "metadata": {},
   "outputs": [
    {
     "name": "stdout",
     "output_type": "stream",
     "text": [
      "Epoch 1/20\n",
      "3181/3181 - 38s - loss: 0.0066 - Sales_loss: 0.0023 - Customers_loss: 8.5139e-04 - Sales_mse: 0.0023 - Sales_rmspe: 0.3544 - Customers_mse: 8.5139e-04 - Customers_rmspe: 0.3188 - val_loss: 0.0025 - val_Sales_loss: 0.0016 - val_Customers_loss: 6.9231e-04 - val_Sales_mse: 0.0016 - val_Sales_rmspe: 0.2632 - val_Customers_mse: 6.9231e-04 - val_Customers_rmspe: 0.2797\n",
      "\n",
      "Epoch 00001: val_Sales_mse improved from inf to 0.00163, saving model to bestmodel.hdf5\n",
      "Epoch 2/20\n",
      "3181/3181 - 37s - loss: 0.0028 - Sales_loss: 0.0020 - Customers_loss: 6.0769e-04 - Sales_mse: 0.0020 - Sales_rmspe: 0.3320 - Customers_mse: 6.0769e-04 - Customers_rmspe: 0.2896 - val_loss: 0.0021 - val_Sales_loss: 0.0015 - val_Customers_loss: 4.0295e-04 - val_Sales_mse: 0.0015 - val_Sales_rmspe: 0.2674 - val_Customers_mse: 4.0295e-04 - val_Customers_rmspe: 0.2253\n",
      "\n",
      "Epoch 00002: val_Sales_mse improved from 0.00163 to 0.00151, saving model to bestmodel.hdf5\n",
      "Epoch 3/20\n",
      "3181/3181 - 34s - loss: 0.0025 - Sales_loss: 0.0019 - Customers_loss: 4.5476e-04 - Sales_mse: 0.0019 - Sales_rmspe: 0.3220 - Customers_mse: 4.5476e-04 - Customers_rmspe: 0.2610 - val_loss: 0.0020 - val_Sales_loss: 0.0015 - val_Customers_loss: 3.5501e-04 - val_Sales_mse: 0.0015 - val_Sales_rmspe: 0.2435 - val_Customers_mse: 3.5501e-04 - val_Customers_rmspe: 0.1966\n",
      "\n",
      "Epoch 00003: val_Sales_mse improved from 0.00151 to 0.00150, saving model to bestmodel.hdf5\n",
      "Epoch 4/20\n",
      "3181/3181 - 37s - loss: 0.0025 - Sales_loss: 0.0019 - Customers_loss: 4.5080e-04 - Sales_mse: 0.0019 - Sales_rmspe: 0.3203 - Customers_mse: 4.5080e-04 - Customers_rmspe: 0.2566 - val_loss: 0.0020 - val_Sales_loss: 0.0015 - val_Customers_loss: 3.9865e-04 - val_Sales_mse: 0.0015 - val_Sales_rmspe: 0.2533 - val_Customers_mse: 3.9865e-04 - val_Customers_rmspe: 0.2146\n",
      "\n",
      "Epoch 00004: val_Sales_mse improved from 0.00150 to 0.00149, saving model to bestmodel.hdf5\n",
      "Epoch 5/20\n",
      "3181/3181 - 36s - loss: 0.0025 - Sales_loss: 0.0019 - Customers_loss: 4.5068e-04 - Sales_mse: 0.0019 - Sales_rmspe: 0.3186 - Customers_mse: 4.5068e-04 - Customers_rmspe: 0.2547 - val_loss: 0.0019 - val_Sales_loss: 0.0015 - val_Customers_loss: 3.5576e-04 - val_Sales_mse: 0.0015 - val_Sales_rmspe: 0.2361 - val_Customers_mse: 3.5576e-04 - val_Customers_rmspe: 0.1988\n",
      "\n",
      "Epoch 00005: val_Sales_mse improved from 0.00149 to 0.00146, saving model to bestmodel.hdf5\n",
      "Epoch 6/20\n",
      "3181/3181 - 35s - loss: 0.0025 - Sales_loss: 0.0019 - Customers_loss: 4.4851e-04 - Sales_mse: 0.0019 - Sales_rmspe: 0.3175 - Customers_mse: 4.4851e-04 - Customers_rmspe: 0.2535 - val_loss: 0.0019 - val_Sales_loss: 0.0014 - val_Customers_loss: 3.4512e-04 - val_Sales_mse: 0.0014 - val_Sales_rmspe: 0.2436 - val_Customers_mse: 3.4512e-04 - val_Customers_rmspe: 0.2018\n",
      "\n",
      "Epoch 00006: val_Sales_mse improved from 0.00146 to 0.00142, saving model to bestmodel.hdf5\n",
      "Epoch 7/20\n",
      "3181/3181 - 37s - loss: 0.0024 - Sales_loss: 0.0019 - Customers_loss: 4.4823e-04 - Sales_mse: 0.0019 - Sales_rmspe: 0.3167 - Customers_mse: 4.4823e-04 - Customers_rmspe: 0.2538 - val_loss: 0.0019 - val_Sales_loss: 0.0014 - val_Customers_loss: 3.5827e-04 - val_Sales_mse: 0.0014 - val_Sales_rmspe: 0.2370 - val_Customers_mse: 3.5827e-04 - val_Customers_rmspe: 0.2051\n",
      "\n",
      "Epoch 00007: val_Sales_mse improved from 0.00142 to 0.00141, saving model to bestmodel.hdf5\n",
      "Epoch 8/20\n",
      "3181/3181 - 39s - loss: 0.0024 - Sales_loss: 0.0019 - Customers_loss: 4.4826e-04 - Sales_mse: 0.0019 - Sales_rmspe: 0.3160 - Customers_mse: 4.4826e-04 - Customers_rmspe: 0.2537 - val_loss: 0.0019 - val_Sales_loss: 0.0014 - val_Customers_loss: 3.7279e-04 - val_Sales_mse: 0.0014 - val_Sales_rmspe: 0.2422 - val_Customers_mse: 3.7279e-04 - val_Customers_rmspe: 0.2064\n",
      "\n",
      "Epoch 00008: val_Sales_mse did not improve from 0.00141\n",
      "Epoch 9/20\n",
      "3181/3181 - 37s - loss: 0.0024 - Sales_loss: 0.0019 - Customers_loss: 4.4606e-04 - Sales_mse: 0.0019 - Sales_rmspe: 0.3156 - Customers_mse: 4.4606e-04 - Customers_rmspe: 0.2536 - val_loss: 0.0018 - val_Sales_loss: 0.0014 - val_Customers_loss: 3.3103e-04 - val_Sales_mse: 0.0014 - val_Sales_rmspe: 0.2340 - val_Customers_mse: 3.3103e-04 - val_Customers_rmspe: 0.1962\n",
      "\n",
      "Epoch 00009: val_Sales_mse did not improve from 0.00141\n",
      "Epoch 10/20\n",
      "3181/3181 - 38s - loss: 0.0024 - Sales_loss: 0.0019 - Customers_loss: 4.4502e-04 - Sales_mse: 0.0019 - Sales_rmspe: 0.3148 - Customers_mse: 4.4502e-04 - Customers_rmspe: 0.2531 - val_loss: 0.0019 - val_Sales_loss: 0.0014 - val_Customers_loss: 3.3525e-04 - val_Sales_mse: 0.0014 - val_Sales_rmspe: 0.2358 - val_Customers_mse: 3.3525e-04 - val_Customers_rmspe: 0.2030\n",
      "\n",
      "Epoch 00010: val_Sales_mse did not improve from 0.00141\n",
      "Epoch 11/20\n",
      "3181/3181 - 36s - loss: 0.0024 - Sales_loss: 0.0019 - Customers_loss: 4.4350e-04 - Sales_mse: 0.0019 - Sales_rmspe: 0.3141 - Customers_mse: 4.4350e-04 - Customers_rmspe: 0.2526 - val_loss: 0.0018 - val_Sales_loss: 0.0014 - val_Customers_loss: 3.3369e-04 - val_Sales_mse: 0.0014 - val_Sales_rmspe: 0.2327 - val_Customers_mse: 3.3369e-04 - val_Customers_rmspe: 0.1901\n",
      "\n",
      "Epoch 00011: val_Sales_mse did not improve from 0.00141\n",
      "Epoch 12/20\n",
      "3181/3181 - 37s - loss: 0.0024 - Sales_loss: 0.0019 - Customers_loss: 4.3803e-04 - Sales_mse: 0.0019 - Sales_rmspe: 0.3114 - Customers_mse: 4.3803e-04 - Customers_rmspe: 0.2499 - val_loss: 0.0019 - val_Sales_loss: 0.0014 - val_Customers_loss: 4.0938e-04 - val_Sales_mse: 0.0014 - val_Sales_rmspe: 0.2583 - val_Customers_mse: 4.0938e-04 - val_Customers_rmspe: 0.2286\n",
      "\n",
      "Epoch 00012: val_Sales_mse did not improve from 0.00141\n",
      "Epoch 13/20\n",
      "3181/3181 - 35s - loss: 0.0023 - Sales_loss: 0.0018 - Customers_loss: 3.8420e-04 - Sales_mse: 0.0018 - Sales_rmspe: 0.2878 - Customers_mse: 3.8420e-04 - Customers_rmspe: 0.2172 - val_loss: 0.0018 - val_Sales_loss: 0.0013 - val_Customers_loss: 2.9897e-04 - val_Sales_mse: 0.0013 - val_Sales_rmspe: 0.2276 - val_Customers_mse: 2.9897e-04 - val_Customers_rmspe: 0.1785\n",
      "\n",
      "Epoch 00013: val_Sales_mse improved from 0.00141 to 0.00134, saving model to bestmodel.hdf5\n",
      "Epoch 14/20\n",
      "3181/3181 - 37s - loss: 0.0022 - Sales_loss: 0.0017 - Customers_loss: 3.7358e-04 - Sales_mse: 0.0017 - Sales_rmspe: 0.2838 - Customers_mse: 3.7358e-04 - Customers_rmspe: 0.2114 - val_loss: 0.0018 - val_Sales_loss: 0.0013 - val_Customers_loss: 3.6736e-04 - val_Sales_mse: 0.0013 - val_Sales_rmspe: 0.2204 - val_Customers_mse: 3.6736e-04 - val_Customers_rmspe: 0.2002\n",
      "\n",
      "Epoch 00014: val_Sales_mse improved from 0.00134 to 0.00130, saving model to bestmodel.hdf5\n",
      "Epoch 15/20\n",
      "3181/3181 - 35s - loss: 0.0022 - Sales_loss: 0.0017 - Customers_loss: 3.7245e-04 - Sales_mse: 0.0017 - Sales_rmspe: 0.2830 - Customers_mse: 3.7245e-04 - Customers_rmspe: 0.2105 - val_loss: 0.0019 - val_Sales_loss: 0.0015 - val_Customers_loss: 3.4043e-04 - val_Sales_mse: 0.0015 - val_Sales_rmspe: 0.2102 - val_Customers_mse: 3.4043e-04 - val_Customers_rmspe: 0.1617\n",
      "\n",
      "Epoch 00015: val_Sales_mse did not improve from 0.00130\n",
      "Epoch 16/20\n",
      "3181/3181 - 35s - loss: 0.0022 - Sales_loss: 0.0017 - Customers_loss: 3.7346e-04 - Sales_mse: 0.0017 - Sales_rmspe: 0.2831 - Customers_mse: 3.7346e-04 - Customers_rmspe: 0.2107 - val_loss: 0.0017 - val_Sales_loss: 0.0013 - val_Customers_loss: 2.9241e-04 - val_Sales_mse: 0.0013 - val_Sales_rmspe: 0.2227 - val_Customers_mse: 2.9241e-04 - val_Customers_rmspe: 0.1742\n",
      "\n",
      "Epoch 00016: val_Sales_mse improved from 0.00130 to 0.00130, saving model to bestmodel.hdf5\n",
      "Epoch 17/20\n",
      "3181/3181 - 34s - loss: 0.0022 - Sales_loss: 0.0017 - Customers_loss: 3.7229e-04 - Sales_mse: 0.0017 - Sales_rmspe: 0.2826 - Customers_mse: 3.7229e-04 - Customers_rmspe: 0.2100 - val_loss: 0.0017 - val_Sales_loss: 0.0013 - val_Customers_loss: 2.8553e-04 - val_Sales_mse: 0.0013 - val_Sales_rmspe: 0.2131 - val_Customers_mse: 2.8553e-04 - val_Customers_rmspe: 0.1687\n",
      "\n",
      "Epoch 00017: val_Sales_mse did not improve from 0.00130\n",
      "Epoch 18/20\n",
      "3181/3181 - 39s - loss: 0.0022 - Sales_loss: 0.0017 - Customers_loss: 3.7120e-04 - Sales_mse: 0.0017 - Sales_rmspe: 0.2823 - Customers_mse: 3.7120e-04 - Customers_rmspe: 0.2094 - val_loss: 0.0018 - val_Sales_loss: 0.0014 - val_Customers_loss: 2.9524e-04 - val_Sales_mse: 0.0014 - val_Sales_rmspe: 0.2125 - val_Customers_mse: 2.9524e-04 - val_Customers_rmspe: 0.1654\n",
      "\n",
      "Epoch 00018: val_Sales_mse did not improve from 0.00130\n",
      "Epoch 19/20\n",
      "3181/3181 - 36s - loss: 0.0022 - Sales_loss: 0.0017 - Customers_loss: 3.7059e-04 - Sales_mse: 0.0017 - Sales_rmspe: 0.2823 - Customers_mse: 3.7059e-04 - Customers_rmspe: 0.2093 - val_loss: 0.0017 - val_Sales_loss: 0.0013 - val_Customers_loss: 2.8945e-04 - val_Sales_mse: 0.0013 - val_Sales_rmspe: 0.2100 - val_Customers_mse: 2.8945e-04 - val_Customers_rmspe: 0.1694\n",
      "\n",
      "Epoch 00019: val_Sales_mse did not improve from 0.00130\n",
      "Epoch 20/20\n",
      "3181/3181 - 38s - loss: 0.0022 - Sales_loss: 0.0017 - Customers_loss: 3.7007e-04 - Sales_mse: 0.0017 - Sales_rmspe: 0.2823 - Customers_mse: 3.7007e-04 - Customers_rmspe: 0.2092 - val_loss: 0.0017 - val_Sales_loss: 0.0013 - val_Customers_loss: 3.2028e-04 - val_Sales_mse: 0.0013 - val_Sales_rmspe: 0.2237 - val_Customers_mse: 3.2028e-04 - val_Customers_rmspe: 0.1847\n",
      "\n",
      "Epoch 00020: val_Sales_mse did not improve from 0.00130\n"
     ]
    }
   ],
   "source": [
    "epochs = 1\n",
    "batch_size = 256\n",
    "history = model.fit(X_train, y_train, validation_data=(X_val, y_val),  epochs=epochs, batch_size=batch_size, callbacks=[checkpoint], verbose=2)"
   ]
  },
  {
   "cell_type": "code",
   "execution_count": 33,
   "metadata": {},
   "outputs": [
    {
     "data": {
      "image/png": "[encoded data removed]",
      "text/plain": [
       "<Figure size 432x288 with 1 Axes>"
      ]
     },
     "metadata": {
      "needs_background": "light"
     },
     "output_type": "display_data"
    },
    {
     "data": {
      "text/plain": [
       "[<matplotlib.lines.Line2D at 0x1be5f59dd90>]"
      ]
     },
     "execution_count": 33,
     "metadata": {},
     "output_type": "execute_result"
    },
    {
     "data": {
      "image/png": "[encoded data removed]",
      "text/plain": [
       "<Figure size 432x288 with 1 Axes>"
      ]
     },
     "metadata": {
      "needs_background": "light"
     },
     "output_type": "display_data"
    }
   ],
   "source": [
    "plt.plot(history.history['val_loss'])\n",
    "# plt.plot(history.history['val_Customers_mse'])\n",
    "# plt.plot(history.history['val_Sales_mse'])\n",
    "plt.show()\n",
    "plt.plot(history.history['loss'])\n",
    "# plt.plot(history.history['Customers_mse'])\n",
    "# plt.plot(history.history['Sales_mse'])"
   ]
  },
  {
   "cell_type": "markdown",
   "metadata": {},
   "source": [
    "# Métrica"
   ]
  },
  {
   "cell_type": "markdown",
   "metadata": {},
   "source": [
    "$$\n",
    "\\textrm{RMSE} = \\sqrt{\\frac{1}{n} \\sum_{i=1}^{n} \\left(\\frac{\\hat{y}_i - y_i}{y_i}\\right)^2}\n",
    "$$"
   ]
  },
  {
   "cell_type": "code",
   "execution_count": 34,
   "metadata": {},
   "outputs": [
    {
     "name": "stdout",
     "output_type": "stream",
     "text": [
      "944/944 [==============================] - 2s 3ms/step - loss: 0.0017 - Sales_loss: 0.0013 - Customers_loss: 3.2028e-04 - Sales_mse: 0.0013 - Sales_rmspe: 0.2195 - Customers_mse: 3.2028e-04 - Customers_rmspe: 0.1802\n"
     ]
    },
    {
     "data": {
      "text/plain": [
       "[0.0017278018640354276,\n",
       " 0.0013201001565903425,\n",
       " 0.0003202846273779869,\n",
       " 0.0013201001565903425,\n",
       " 0.21953044831752777,\n",
       " 0.0003202846273779869,\n",
       " 0.1802079826593399]"
      ]
     },
     "execution_count": 34,
     "metadata": {},
     "output_type": "execute_result"
    }
   ],
   "source": [
    "model.evaluate(X_val, y_val)"
   ]
  },
  {
   "cell_type": "code",
   "execution_count": 35,
   "metadata": {},
   "outputs": [
    {
     "name": "stdout",
     "output_type": "stream",
     "text": [
      "944/944 [==============================] - 3s 3ms/step - loss: 0.0017 - Sales_loss: 0.0013 - Customers_loss: 2.9241e-04 - Sales_mse: 0.0013 - Sales_rmspe: 0.2187 - Customers_mse: 2.9241e-04 - Customers_rmspe: 0.1700\n"
     ]
    },
    {
     "data": {
      "text/plain": [
       "[0.0016883730422705412,\n",
       " 0.001300347619690001,\n",
       " 0.00029241075390018523,\n",
       " 0.001300347619690001,\n",
       " 0.21868374943733215,\n",
       " 0.00029241075390018523,\n",
       " 0.1700088530778885]"
      ]
     },
     "execution_count": 35,
     "metadata": {},
     "output_type": "execute_result"
    }
   ],
   "source": [
    "model.load_weights('bestmodel.hdf5')\n",
    "model.evaluate(X_val, y_val)"
   ]
  },
  {
   "cell_type": "code",
   "execution_count": 36,
   "metadata": {},
   "outputs": [],
   "source": [
    "# model.load_weights('bestmodel.hdf5')\n",
    "# model.evaluate(X_val, y_val)\n",
    "# 30188/30188 [==============================] - 5s 172us/step\n",
    "# [0.12197033089921382,\n",
    "#  0.07211007360268763,\n",
    "#  0.037183713050426136,\n",
    "#  0.07211007360268763,\n",
    "#  0.037183713050426136]\n",
    "\n",
    "# [0.12932546436786652,\n",
    "#  0.07751645147800446,\n",
    "#  0.039259567856788635,\n",
    "#  0.07751645147800446,\n",
    "#  0.039259567856788635]"
   ]
  },
  {
   "cell_type": "code",
   "execution_count": 37,
   "metadata": {},
   "outputs": [
    {
     "name": "stdout",
     "output_type": "stream",
     "text": [
      "944/944 [==============================] - 2s 2ms/step\n"
     ]
    },
    {
     "ename": "NameError",
     "evalue": "name 'y_std' is not defined",
     "output_type": "error",
     "traceback": [
      "\u001b[1;31m---------------------------------------------------------------------------\u001b[0m",
      "\u001b[1;31mNameError\u001b[0m                                 Traceback (most recent call last)",
      "\u001b[1;32m~\\AppData\\Local\\Temp/ipykernel_16056/2461445074.py\u001b[0m in \u001b[0;36m<module>\u001b[1;34m\u001b[0m\n\u001b[0;32m      8\u001b[0m \u001b[1;32melse\u001b[0m\u001b[1;33m:\u001b[0m\u001b[1;33m\u001b[0m\u001b[1;33m\u001b[0m\u001b[0m\n\u001b[0;32m      9\u001b[0m     \u001b[1;32mif\u001b[0m \u001b[0madd_customers\u001b[0m\u001b[1;33m:\u001b[0m\u001b[1;33m\u001b[0m\u001b[1;33m\u001b[0m\u001b[0m\n\u001b[1;32m---> 10\u001b[1;33m         \u001b[0my_pred\u001b[0m \u001b[1;33m=\u001b[0m \u001b[1;33m(\u001b[0m\u001b[0mmodel\u001b[0m\u001b[1;33m.\u001b[0m\u001b[0mpredict\u001b[0m\u001b[1;33m(\u001b[0m\u001b[0mX_val\u001b[0m\u001b[1;33m,\u001b[0m \u001b[0mverbose\u001b[0m\u001b[1;33m=\u001b[0m\u001b[1;36m1\u001b[0m\u001b[1;33m)\u001b[0m\u001b[1;33m[\u001b[0m\u001b[1;36m0\u001b[0m\u001b[1;33m]\u001b[0m\u001b[1;33m*\u001b[0m\u001b[0my_std\u001b[0m\u001b[1;33m[\u001b[0m\u001b[1;36m0\u001b[0m\u001b[1;33m]\u001b[0m \u001b[1;33m+\u001b[0m \u001b[0my_mean\u001b[0m\u001b[1;33m[\u001b[0m\u001b[1;36m0\u001b[0m\u001b[1;33m]\u001b[0m\u001b[1;33m)\u001b[0m\u001b[1;33m[\u001b[0m\u001b[1;33m:\u001b[0m\u001b[1;33m,\u001b[0m\u001b[1;36m0\u001b[0m\u001b[1;33m]\u001b[0m\u001b[1;33m\u001b[0m\u001b[1;33m\u001b[0m\u001b[0m\n\u001b[0m\u001b[0;32m     11\u001b[0m         \u001b[0my_pred_test\u001b[0m \u001b[1;33m=\u001b[0m \u001b[1;33m(\u001b[0m\u001b[0mmodel\u001b[0m\u001b[1;33m.\u001b[0m\u001b[0mpredict\u001b[0m\u001b[1;33m(\u001b[0m\u001b[0mX_test\u001b[0m\u001b[1;33m,\u001b[0m \u001b[0mverbose\u001b[0m\u001b[1;33m=\u001b[0m\u001b[1;36m1\u001b[0m\u001b[1;33m)\u001b[0m\u001b[1;33m[\u001b[0m\u001b[1;36m0\u001b[0m\u001b[1;33m]\u001b[0m\u001b[1;33m*\u001b[0m\u001b[0my_std\u001b[0m\u001b[1;33m[\u001b[0m\u001b[1;36m0\u001b[0m\u001b[1;33m]\u001b[0m \u001b[1;33m+\u001b[0m \u001b[0my_mean\u001b[0m\u001b[1;33m[\u001b[0m\u001b[1;36m0\u001b[0m\u001b[1;33m]\u001b[0m\u001b[1;33m)\u001b[0m\u001b[1;33m[\u001b[0m\u001b[1;33m:\u001b[0m\u001b[1;33m,\u001b[0m\u001b[1;36m0\u001b[0m\u001b[1;33m]\u001b[0m\u001b[1;33m\u001b[0m\u001b[1;33m\u001b[0m\u001b[0m\n\u001b[0;32m     12\u001b[0m     \u001b[1;32melse\u001b[0m\u001b[1;33m:\u001b[0m\u001b[1;33m\u001b[0m\u001b[1;33m\u001b[0m\u001b[0m\n",
      "\u001b[1;31mNameError\u001b[0m: name 'y_std' is not defined"
     ]
    }
   ],
   "source": [
    "if log_output:\n",
    "    if add_customers:\n",
    "        y_pred = np.exp(model.predict(X_val, verbose=1)[0][:, 0]*max_log_y[0])\n",
    "        y_pred_test = np.exp(model.predict(X_test, verbose=1)[0][:, 0]*max_log_y[0])\n",
    "    else:\n",
    "        y_pred = np.exp(model.predict(X_val, verbose=1)*max_log_y)[:,0]\n",
    "        y_pred_test = np.exp(model.predict(X_test, verbose=1)*max_log_y)[:,0]\n",
    "else:\n",
    "    if add_customers:\n",
    "        y_pred = (model.predict(X_val, verbose=1)[0]*y_std[0] + y_mean[0])[:,0]\n",
    "        y_pred_test = (model.predict(X_test, verbose=1)[0]*y_std[0] + y_mean[0])[:,0]\n",
    "    else:\n",
    "#         y_pred = model.predict(X_val, verbose=1)[:,0]*y_std + y_mean\n",
    "#         y_pred_test = model.predict(X_test, verbose=1)[:,0]*y_std + y_mean\n",
    "        y_pred = model.predict(X_val, verbose=1)[:,0]*y_max\n",
    "        y_pred_test = model.predict(X_test, verbose=1)[:,0]*y_max\n",
    "y_pred_test[df_test['Open'] == 0] = 0"
   ]
  },
  {
   "cell_type": "code",
   "execution_count": null,
   "metadata": {},
   "outputs": [
    {
     "data": {
      "text/plain": [
       "1.0362932044369766"
      ]
     },
     "execution_count": 153,
     "metadata": {},
     "output_type": "execute_result"
    }
   ],
   "source": [
    "np.sqrt((((df_val['Sales'].values - y_pred)/df_val['Sales'].values)**2).sum()/len(y_pred))"
   ]
  },
  {
   "cell_type": "code",
   "execution_count": null,
   "metadata": {},
   "outputs": [
    {
     "data": {
      "text/plain": [
       "array([ -43.74442669,  194.92447543,  -78.59563165,  197.4268742 ,\n",
       "       -235.0385011 ,  -42.97024203,  177.68631682, -109.93191853,\n",
       "        -55.80277873,   76.66592689])"
      ]
     },
     "execution_count": 154,
     "metadata": {},
     "output_type": "execute_result"
    }
   ],
   "source": [
    "y_pred_test[:10]"
   ]
  },
  {
   "cell_type": "markdown",
   "metadata": {},
   "source": [
    "# Baseline"
   ]
  },
  {
   "cell_type": "code",
   "execution_count": null,
   "metadata": {},
   "outputs": [],
   "source": [
    "import pandas as pd\n",
    "sample_csv = pd.read_csv('dataset/rossmann/sample_submission.csv')"
   ]
  },
  {
   "cell_type": "code",
   "execution_count": null,
   "metadata": {},
   "outputs": [],
   "source": [
    "stores_mean = {}\n",
    "for store, g_df in df.groupby('Store'):\n",
    "    stores_mean[store] = g_df[g_df['Sales'] > 0]['Sales'].mean()"
   ]
  },
  {
   "cell_type": "code",
   "execution_count": null,
   "metadata": {},
   "outputs": [],
   "source": [
    "df_test['Sales'] = df_test['Store'].apply(stores_mean.get)\n",
    "df_test.loc[df_test['Open'] == 0, 'Sales'] = 0"
   ]
  },
  {
   "cell_type": "code",
   "execution_count": null,
   "metadata": {},
   "outputs": [
    {
     "data": {
      "text/html": [
       "<div>\n",
       "<style scoped>\n",
       "    .dataframe tbody tr th:only-of-type {\n",
       "        vertical-align: middle;\n",
       "    }\n",
       "\n",
       "    .dataframe tbody tr th {\n",
       "        vertical-align: top;\n",
       "    }\n",
       "\n",
       "    .dataframe thead th {\n",
       "        text-align: right;\n",
       "    }\n",
       "</style>\n",
       "<table border=\"1\" class=\"dataframe\">\n",
       "  <thead>\n",
       "    <tr style=\"text-align: right;\">\n",
       "      <th></th>\n",
       "      <th>Store</th>\n",
       "      <th>Sales</th>\n",
       "    </tr>\n",
       "  </thead>\n",
       "  <tbody>\n",
       "    <tr>\n",
       "      <th>0</th>\n",
       "      <td>0</td>\n",
       "      <td>4759.096031</td>\n",
       "    </tr>\n",
       "    <tr>\n",
       "      <th>1</th>\n",
       "      <td>2</td>\n",
       "      <td>6942.568678</td>\n",
       "    </tr>\n",
       "    <tr>\n",
       "      <th>2</th>\n",
       "      <td>6</td>\n",
       "      <td>8817.050891</td>\n",
       "    </tr>\n",
       "    <tr>\n",
       "      <th>3</th>\n",
       "      <td>7</td>\n",
       "      <td>5539.358418</td>\n",
       "    </tr>\n",
       "    <tr>\n",
       "      <th>4</th>\n",
       "      <td>8</td>\n",
       "      <td>6562.337612</td>\n",
       "    </tr>\n",
       "    <tr>\n",
       "      <th>5</th>\n",
       "      <td>9</td>\n",
       "      <td>5568.420918</td>\n",
       "    </tr>\n",
       "    <tr>\n",
       "      <th>6</th>\n",
       "      <td>10</td>\n",
       "      <td>8030.977041</td>\n",
       "    </tr>\n",
       "    <tr>\n",
       "      <th>7</th>\n",
       "      <td>11</td>\n",
       "      <td>7589.598214</td>\n",
       "    </tr>\n",
       "    <tr>\n",
       "      <th>8</th>\n",
       "      <td>12</td>\n",
       "      <td>5034.747182</td>\n",
       "    </tr>\n",
       "    <tr>\n",
       "      <th>9</th>\n",
       "      <td>13</td>\n",
       "      <td>5508.567394</td>\n",
       "    </tr>\n",
       "  </tbody>\n",
       "</table>\n",
       "</div>"
      ],
      "text/plain": [
       "   Store        Sales\n",
       "0      0  4759.096031\n",
       "1      2  6942.568678\n",
       "2      6  8817.050891\n",
       "3      7  5539.358418\n",
       "4      8  6562.337612\n",
       "5      9  5568.420918\n",
       "6     10  8030.977041\n",
       "7     11  7589.598214\n",
       "8     12  5034.747182\n",
       "9     13  5508.567394"
      ]
     },
     "execution_count": 89,
     "metadata": {},
     "output_type": "execute_result"
    }
   ],
   "source": [
    "df_test[['Store', 'Sales']].head(10)"
   ]
  },
  {
   "cell_type": "code",
   "execution_count": null,
   "metadata": {},
   "outputs": [
    {
     "data": {
      "text/html": [
       "<div>\n",
       "<style scoped>\n",
       "    .dataframe tbody tr th:only-of-type {\n",
       "        vertical-align: middle;\n",
       "    }\n",
       "\n",
       "    .dataframe tbody tr th {\n",
       "        vertical-align: top;\n",
       "    }\n",
       "\n",
       "    .dataframe thead th {\n",
       "        text-align: right;\n",
       "    }\n",
       "</style>\n",
       "<table border=\"1\" class=\"dataframe\">\n",
       "  <thead>\n",
       "    <tr style=\"text-align: right;\">\n",
       "      <th></th>\n",
       "      <th>Store</th>\n",
       "      <th>Sales</th>\n",
       "    </tr>\n",
       "  </thead>\n",
       "  <tbody>\n",
       "    <tr>\n",
       "      <th>543</th>\n",
       "      <td>702</td>\n",
       "      <td>0.0</td>\n",
       "    </tr>\n",
       "    <tr>\n",
       "      <th>676</th>\n",
       "      <td>878</td>\n",
       "      <td>0.0</td>\n",
       "    </tr>\n",
       "    <tr>\n",
       "      <th>840</th>\n",
       "      <td>1096</td>\n",
       "      <td>0.0</td>\n",
       "    </tr>\n",
       "    <tr>\n",
       "      <th>1399</th>\n",
       "      <td>702</td>\n",
       "      <td>0.0</td>\n",
       "    </tr>\n",
       "    <tr>\n",
       "      <th>1532</th>\n",
       "      <td>878</td>\n",
       "      <td>0.0</td>\n",
       "    </tr>\n",
       "  </tbody>\n",
       "</table>\n",
       "</div>"
      ],
      "text/plain": [
       "      Store  Sales\n",
       "543     702    0.0\n",
       "676     878    0.0\n",
       "840    1096    0.0\n",
       "1399    702    0.0\n",
       "1532    878    0.0"
      ]
     },
     "execution_count": 90,
     "metadata": {},
     "output_type": "execute_result"
    }
   ],
   "source": [
    "df_test[df_test['Open'] == 0][['Store', 'Sales']].head()"
   ]
  },
  {
   "cell_type": "code",
   "execution_count": null,
   "metadata": {},
   "outputs": [],
   "source": [
    "sample_csv['Sales'] = df_test['Sales']"
   ]
  },
  {
   "cell_type": "code",
   "execution_count": null,
   "metadata": {},
   "outputs": [],
   "source": [
    "sample_csv.to_csv(f'submision_baseline.csv', index=False)"
   ]
  },
  {
   "cell_type": "code",
   "execution_count": null,
   "metadata": {},
   "outputs": [
    {
     "data": {
      "text/html": [
       "<div>\n",
       "<style scoped>\n",
       "    .dataframe tbody tr th:only-of-type {\n",
       "        vertical-align: middle;\n",
       "    }\n",
       "\n",
       "    .dataframe tbody tr th {\n",
       "        vertical-align: top;\n",
       "    }\n",
       "\n",
       "    .dataframe thead th {\n",
       "        text-align: right;\n",
       "    }\n",
       "</style>\n",
       "<table border=\"1\" class=\"dataframe\">\n",
       "  <thead>\n",
       "    <tr style=\"text-align: right;\">\n",
       "      <th></th>\n",
       "      <th>Id</th>\n",
       "      <th>Sales</th>\n",
       "    </tr>\n",
       "  </thead>\n",
       "  <tbody>\n",
       "    <tr>\n",
       "      <th>0</th>\n",
       "      <td>1</td>\n",
       "      <td>4759.096031</td>\n",
       "    </tr>\n",
       "    <tr>\n",
       "      <th>1</th>\n",
       "      <td>2</td>\n",
       "      <td>6942.568678</td>\n",
       "    </tr>\n",
       "    <tr>\n",
       "      <th>2</th>\n",
       "      <td>3</td>\n",
       "      <td>8817.050891</td>\n",
       "    </tr>\n",
       "    <tr>\n",
       "      <th>3</th>\n",
       "      <td>4</td>\n",
       "      <td>5539.358418</td>\n",
       "    </tr>\n",
       "    <tr>\n",
       "      <th>4</th>\n",
       "      <td>5</td>\n",
       "      <td>6562.337612</td>\n",
       "    </tr>\n",
       "  </tbody>\n",
       "</table>\n",
       "</div>"
      ],
      "text/plain": [
       "   Id        Sales\n",
       "0   1  4759.096031\n",
       "1   2  6942.568678\n",
       "2   3  8817.050891\n",
       "3   4  5539.358418\n",
       "4   5  6562.337612"
      ]
     },
     "execution_count": 93,
     "metadata": {},
     "output_type": "execute_result"
    }
   ],
   "source": [
    "sample_csv.head()"
   ]
  },
  {
   "cell_type": "markdown",
   "metadata": {},
   "source": [
    "# Sumbit a la competición"
   ]
  },
  {
   "cell_type": "code",
   "execution_count": null,
   "metadata": {},
   "outputs": [],
   "source": [
    "\n",
    "sample_csv = pd.read_csv('dataset/rossmann/sample_submission.csv')\n",
    "sample_csv['Sales'] = y_pred_test\n",
    "sample_csv.head()\n",
    "\n",
    "sample_csv.to_csv(f'submision_{add_customers}-{log_output}-{output_activation}-{l2_lambda}-{first_hidden_units}-{epochs}-{batch_size}-{lr}.csv', index=False)\n"
   ]
  },
  {
   "cell_type": "markdown",
   "metadata": {},
   "source": [
    "# Analisis de embedings"
   ]
  },
  {
   "cell_type": "code",
   "execution_count": null,
   "metadata": {},
   "outputs": [],
   "source": [
    "def plot_embed(layer_name, cat_names):\n",
    "    Y = model.get_layer(layer_name).get_weights()[0]\n",
    "    print(Y.shape)\n",
    "    plt.figure(figsize=(8,8))\n",
    "    plt.scatter(-Y[:, 0], -Y[:, 1])\n",
    "    for i, txt in enumerate(cat_names):\n",
    "        plt.annotate(txt, (-Y[i, 0],-Y[i, 1]), xytext = (-5, 8), textcoords = 'offset points')"
   ]
  },
  {
   "cell_type": "code",
   "execution_count": null,
   "metadata": {},
   "outputs": [
    {
     "name": "stdout",
     "output_type": "stream",
     "text": [
      "(7, 2)\n"
     ]
    },
    {
     "data": {
      "image/png": "[encoded data removed]",
      "text/plain": [
       "<Figure size 576x576 with 1 Axes>"
      ]
     },
     "metadata": {
      "needs_background": "light"
     },
     "output_type": "display_data"
    }
   ],
   "source": [
    "model.load_weights('bestmodel.hdf5')\n",
    "plot_embed('DayOfWeek_Embed', ['Mon', 'Tue', 'Wed', 'Thu', 'Fri', 'Sat','Sun'])"
   ]
  },
  {
   "cell_type": "code",
   "execution_count": null,
   "metadata": {},
   "outputs": [
    {
     "name": "stdout",
     "output_type": "stream",
     "text": [
      "(12, 2)\n"
     ]
    },
    {
     "data": {
      "image/png": "[encoded data removed]",
      "text/plain": [
       "<Figure size 576x576 with 1 Axes>"
      ]
     },
     "metadata": {
      "needs_background": "light"
     },
     "output_type": "display_data"
    }
   ],
   "source": [
    "plot_embed('Month_Embed', list(range(12)))"
   ]
  },
  {
   "cell_type": "code",
   "execution_count": null,
   "metadata": {},
   "outputs": [],
   "source": [
    "from sklearn.manifold import TSNE\n",
    "from sklearn.decomposition import PCA"
   ]
  },
  {
   "cell_type": "code",
   "execution_count": null,
   "metadata": {},
   "outputs": [
    {
     "data": {
      "text/plain": [
       "(7, 2)"
      ]
     },
     "execution_count": 51,
     "metadata": {},
     "output_type": "execute_result"
    }
   ],
   "source": [
    "day_of_week_embedding.shape"
   ]
  },
  {
   "cell_type": "code",
   "execution_count": null,
   "metadata": {},
   "outputs": [
    {
     "data": {
      "image/png": "[encoded data removed]",
      "text/plain": [
       "<Figure size 576x576 with 1 Axes>"
      ]
     },
     "metadata": {
      "needs_background": "light"
     },
     "output_type": "display_data"
    }
   ],
   "source": [
    "tsne = TSNE(n_components=2, random_state=1, learning_rate=10, n_iter=10000)\n",
    "Y = tsne.fit_transform(day_of_week_embedding)\n",
    "names = ['Mon', 'Tue', 'Wed', 'Thu', 'Fri', 'Sat','Sun']\n",
    "plt.figure(figsize=(8,8))\n",
    "plt.scatter(-Y[:, 0], -Y[:, 1])\n",
    "for i, txt in enumerate(names):\n",
    "    plt.annotate(txt, (-Y[i, 0],-Y[i, 1]), xytext = (-5, 8), textcoords = 'offset points')"
   ]
  },
  {
   "cell_type": "code",
   "execution_count": null,
   "metadata": {},
   "outputs": [
    {
     "data": {
      "text/plain": [
       "['Store',\n",
       " 'DayOfWeek',\n",
       " 'Year',\n",
       " 'Month',\n",
       " 'Day',\n",
       " 'StateHoliday',\n",
       " 'CompetitionMonthsOpen',\n",
       " 'Promo2Weeks',\n",
       " 'StoreType',\n",
       " 'Assortment',\n",
       " 'PromoInterval',\n",
       " 'CompetitionOpenSinceYear',\n",
       " 'Promo2SinceYear',\n",
       " 'State',\n",
       " 'Week',\n",
       " 'Events',\n",
       " 'Promo_fw',\n",
       " 'Promo_bw',\n",
       " 'StateHoliday_fw',\n",
       " 'StateHoliday_bw',\n",
       " 'SchoolHoliday_fw',\n",
       " 'SchoolHoliday_bw']"
      ]
     },
     "execution_count": 93,
     "metadata": {},
     "output_type": "execute_result"
    }
   ],
   "source": [
    "cat_vars"
   ]
  },
  {
   "cell_type": "markdown",
   "metadata": {},
   "source": [
    "## Store embeddings"
   ]
  },
  {
   "cell_type": "code",
   "execution_count": null,
   "metadata": {},
   "outputs": [],
   "source": [
    "submodel = Model(cat_var_inputs + cont_vars_inputs, merged)"
   ]
  },
  {
   "cell_type": "code",
   "execution_count": null,
   "metadata": {},
   "outputs": [
    {
     "name": "stdout",
     "output_type": "stream",
     "text": [
      "Model: \"model_3\"\n",
      "__________________________________________________________________________________________________\n",
      "Layer (type)                    Output Shape         Param #     Connected to                     \n",
      "==================================================================================================\n",
      "Store_input (InputLayer)        [(None, 1)]          0                                            \n",
      "__________________________________________________________________________________________________\n",
      "DayOfWeek_input (InputLayer)    [(None, 1)]          0                                            \n",
      "__________________________________________________________________________________________________\n",
      "Year_input (InputLayer)         [(None, 1)]          0                                            \n",
      "__________________________________________________________________________________________________\n",
      "Month_input (InputLayer)        [(None, 1)]          0                                            \n",
      "__________________________________________________________________________________________________\n",
      "Day_input (InputLayer)          [(None, 1)]          0                                            \n",
      "__________________________________________________________________________________________________\n",
      "StateHoliday_input (InputLayer) [(None, 1)]          0                                            \n",
      "__________________________________________________________________________________________________\n",
      "CompetitionMonthsOpen_input (In [(None, 1)]          0                                            \n",
      "__________________________________________________________________________________________________\n",
      "Promo2Weeks_input (InputLayer)  [(None, 1)]          0                                            \n",
      "__________________________________________________________________________________________________\n",
      "StoreType_input (InputLayer)    [(None, 1)]          0                                            \n",
      "__________________________________________________________________________________________________\n",
      "Assortment_input (InputLayer)   [(None, 1)]          0                                            \n",
      "__________________________________________________________________________________________________\n",
      "PromoInterval_input (InputLayer [(None, 1)]          0                                            \n",
      "__________________________________________________________________________________________________\n",
      "CompetitionOpenSinceYear_input  [(None, 1)]          0                                            \n",
      "__________________________________________________________________________________________________\n",
      "Promo2SinceYear_input (InputLay [(None, 1)]          0                                            \n",
      "__________________________________________________________________________________________________\n",
      "State_input (InputLayer)        [(None, 1)]          0                                            \n",
      "__________________________________________________________________________________________________\n",
      "Week_input (InputLayer)         [(None, 1)]          0                                            \n",
      "__________________________________________________________________________________________________\n",
      "Events_input (InputLayer)       [(None, 1)]          0                                            \n",
      "__________________________________________________________________________________________________\n",
      "Promo_fw_input (InputLayer)     [(None, 1)]          0                                            \n",
      "__________________________________________________________________________________________________\n",
      "Promo_bw_input (InputLayer)     [(None, 1)]          0                                            \n",
      "__________________________________________________________________________________________________\n",
      "StateHoliday_fw_input (InputLay [(None, 1)]          0                                            \n",
      "__________________________________________________________________________________________________\n",
      "StateHoliday_bw_input (InputLay [(None, 1)]          0                                            \n",
      "__________________________________________________________________________________________________\n",
      "SchoolHoliday_fw_input (InputLa [(None, 1)]          0                                            \n",
      "__________________________________________________________________________________________________\n",
      "SchoolHoliday_bw_input (InputLa [(None, 1)]          0                                            \n",
      "__________________________________________________________________________________________________\n",
      "Store_Embed (Embedding)         (None, 1, 50)        55750       Store_input[0][0]                \n",
      "__________________________________________________________________________________________________\n",
      "DayOfWeek_Embed (Embedding)     (None, 1, 2)         14          DayOfWeek_input[0][0]            \n",
      "__________________________________________________________________________________________________\n",
      "Year_Embed (Embedding)          (None, 1, 2)         6           Year_input[0][0]                 \n",
      "__________________________________________________________________________________________________\n",
      "Month_Embed (Embedding)         (None, 1, 6)         72          Month_input[0][0]                \n",
      "__________________________________________________________________________________________________\n",
      "Day_Embed (Embedding)           (None, 1, 10)        310         Day_input[0][0]                  \n",
      "__________________________________________________________________________________________________\n",
      "StateHoliday_Embed (Embedding)  (None, 1, 3)         6           StateHoliday_input[0][0]         \n",
      "__________________________________________________________________________________________________\n",
      "CompetitionMonthsOpen_Embed (Em (None, 1, 2)         50          CompetitionMonthsOpen_input[0][0]\n",
      "__________________________________________________________________________________________________\n",
      "Promo2Weeks_Embed (Embedding)   (None, 1, 1)         26          Promo2Weeks_input[0][0]          \n",
      "__________________________________________________________________________________________________\n",
      "StoreType_Embed (Embedding)     (None, 1, 2)         8           StoreType_input[0][0]            \n",
      "__________________________________________________________________________________________________\n",
      "Assortment_Embed (Embedding)    (None, 1, 3)         9           Assortment_input[0][0]           \n",
      "__________________________________________________________________________________________________\n",
      "PromoInterval_Embed (Embedding) (None, 1, 3)         12          PromoInterval_input[0][0]        \n",
      "__________________________________________________________________________________________________\n",
      "CompetitionOpenSinceYear_Embed  (None, 1, 4)         84          CompetitionOpenSinceYear_input[0]\n",
      "__________________________________________________________________________________________________\n",
      "Promo2SinceYear_Embed (Embeddin (None, 1, 4)         32          Promo2SinceYear_input[0][0]      \n",
      "__________________________________________________________________________________________________\n",
      "State_Embed (Embedding)         (None, 1, 6)         72          State_input[0][0]                \n",
      "__________________________________________________________________________________________________\n",
      "Week_Embed (Embedding)          (None, 1, 2)         104         Week_input[0][0]                 \n",
      "__________________________________________________________________________________________________\n",
      "Events_Embed (Embedding)        (None, 1, 4)         88          Events_input[0][0]               \n",
      "__________________________________________________________________________________________________\n",
      "Promo_fw_Embed (Embedding)      (None, 1, 1)         6           Promo_fw_input[0][0]             \n",
      "__________________________________________________________________________________________________\n",
      "Promo_bw_Embed (Embedding)      (None, 1, 1)         6           Promo_bw_input[0][0]             \n",
      "__________________________________________________________________________________________________\n",
      "StateHoliday_fw_Embed (Embeddin (None, 1, 1)         3           StateHoliday_fw_input[0][0]      \n",
      "__________________________________________________________________________________________________\n",
      "StateHoliday_bw_Embed (Embeddin (None, 1, 1)         3           StateHoliday_bw_input[0][0]      \n",
      "__________________________________________________________________________________________________\n",
      "SchoolHoliday_fw_Embed (Embeddi (None, 1, 1)         8           SchoolHoliday_fw_input[0][0]     \n",
      "__________________________________________________________________________________________________\n",
      "SchoolHoliday_bw_Embed (Embeddi (None, 1, 1)         8           SchoolHoliday_bw_input[0][0]     \n",
      "__________________________________________________________________________________________________\n",
      "Store_flat (Flatten)            (None, 50)           0           Store_Embed[0][0]                \n",
      "__________________________________________________________________________________________________\n",
      "DayOfWeek_flat (Flatten)        (None, 2)            0           DayOfWeek_Embed[0][0]            \n",
      "__________________________________________________________________________________________________\n",
      "Year_flat (Flatten)             (None, 2)            0           Year_Embed[0][0]                 \n",
      "__________________________________________________________________________________________________\n",
      "Month_flat (Flatten)            (None, 6)            0           Month_Embed[0][0]                \n",
      "__________________________________________________________________________________________________\n",
      "Day_flat (Flatten)              (None, 10)           0           Day_Embed[0][0]                  \n",
      "__________________________________________________________________________________________________\n",
      "StateHoliday_flat (Flatten)     (None, 3)            0           StateHoliday_Embed[0][0]         \n",
      "__________________________________________________________________________________________________\n",
      "CompetitionMonthsOpen_flat (Fla (None, 2)            0           CompetitionMonthsOpen_Embed[0][0]\n",
      "__________________________________________________________________________________________________\n",
      "Promo2Weeks_flat (Flatten)      (None, 1)            0           Promo2Weeks_Embed[0][0]          \n",
      "__________________________________________________________________________________________________\n",
      "StoreType_flat (Flatten)        (None, 2)            0           StoreType_Embed[0][0]            \n",
      "__________________________________________________________________________________________________\n",
      "Assortment_flat (Flatten)       (None, 3)            0           Assortment_Embed[0][0]           \n",
      "__________________________________________________________________________________________________\n",
      "PromoInterval_flat (Flatten)    (None, 3)            0           PromoInterval_Embed[0][0]        \n",
      "__________________________________________________________________________________________________\n",
      "CompetitionOpenSinceYear_flat ( (None, 4)            0           CompetitionOpenSinceYear_Embed[0]\n",
      "__________________________________________________________________________________________________\n",
      "Promo2SinceYear_flat (Flatten)  (None, 4)            0           Promo2SinceYear_Embed[0][0]      \n",
      "__________________________________________________________________________________________________\n",
      "State_flat (Flatten)            (None, 6)            0           State_Embed[0][0]                \n",
      "__________________________________________________________________________________________________\n",
      "Week_flat (Flatten)             (None, 2)            0           Week_Embed[0][0]                 \n",
      "__________________________________________________________________________________________________\n",
      "Events_flat (Flatten)           (None, 4)            0           Events_Embed[0][0]               \n",
      "__________________________________________________________________________________________________\n",
      "Promo_fw_flat (Flatten)         (None, 1)            0           Promo_fw_Embed[0][0]             \n",
      "__________________________________________________________________________________________________\n",
      "Promo_bw_flat (Flatten)         (None, 1)            0           Promo_bw_Embed[0][0]             \n",
      "__________________________________________________________________________________________________\n",
      "StateHoliday_fw_flat (Flatten)  (None, 1)            0           StateHoliday_fw_Embed[0][0]      \n",
      "__________________________________________________________________________________________________\n",
      "StateHoliday_bw_flat (Flatten)  (None, 1)            0           StateHoliday_bw_Embed[0][0]      \n",
      "__________________________________________________________________________________________________\n",
      "SchoolHoliday_fw_flat (Flatten) (None, 1)            0           SchoolHoliday_fw_Embed[0][0]     \n",
      "__________________________________________________________________________________________________\n",
      "SchoolHoliday_bw_flat (Flatten) (None, 1)            0           SchoolHoliday_bw_Embed[0][0]     \n",
      "__________________________________________________________________________________________________\n",
      "CompetitionDistance_input (Inpu [(None, 1)]          0                                            \n",
      "__________________________________________________________________________________________________\n",
      "Max_TemperatureC_input (InputLa [(None, 1)]          0                                            \n",
      "__________________________________________________________________________________________________\n",
      "Mean_TemperatureC_input (InputL [(None, 1)]          0                                            \n",
      "__________________________________________________________________________________________________\n",
      "Min_TemperatureC_input (InputLa [(None, 1)]          0                                            \n",
      "__________________________________________________________________________________________________\n",
      "Max_Humidity_input (InputLayer) [(None, 1)]          0                                            \n",
      "__________________________________________________________________________________________________\n",
      "Mean_Humidity_input (InputLayer [(None, 1)]          0                                            \n",
      "__________________________________________________________________________________________________\n",
      "Min_Humidity_input (InputLayer) [(None, 1)]          0                                            \n",
      "__________________________________________________________________________________________________\n",
      "Max_Wind_SpeedKm_h_input (Input [(None, 1)]          0                                            \n",
      "__________________________________________________________________________________________________\n",
      "Mean_Wind_SpeedKm_h_input (Inpu [(None, 1)]          0                                            \n",
      "__________________________________________________________________________________________________\n",
      "CloudCover_input (InputLayer)   [(None, 1)]          0                                            \n",
      "__________________________________________________________________________________________________\n",
      "trend_input (InputLayer)        [(None, 1)]          0                                            \n",
      "__________________________________________________________________________________________________\n",
      "trend_DE_input (InputLayer)     [(None, 1)]          0                                            \n",
      "__________________________________________________________________________________________________\n",
      "AfterStateHoliday_input (InputL [(None, 1)]          0                                            \n",
      "__________________________________________________________________________________________________\n",
      "BeforeStateHoliday_input (Input [(None, 1)]          0                                            \n",
      "__________________________________________________________________________________________________\n",
      "Promo_input (InputLayer)        [(None, 1)]          0                                            \n",
      "__________________________________________________________________________________________________\n",
      "SchoolHoliday_input (InputLayer [(None, 1)]          0                                            \n",
      "__________________________________________________________________________________________________\n",
      "All_Concatenate (Concatenate)   (None, 126)          0           Store_flat[0][0]                 \n",
      "                                                                 DayOfWeek_flat[0][0]             \n",
      "                                                                 Year_flat[0][0]                  \n",
      "                                                                 Month_flat[0][0]                 \n",
      "                                                                 Day_flat[0][0]                   \n",
      "                                                                 StateHoliday_flat[0][0]          \n",
      "                                                                 CompetitionMonthsOpen_flat[0][0] \n",
      "                                                                 Promo2Weeks_flat[0][0]           \n",
      "                                                                 StoreType_flat[0][0]             \n",
      "                                                                 Assortment_flat[0][0]            \n",
      "                                                                 PromoInterval_flat[0][0]         \n",
      "                                                                 CompetitionOpenSinceYear_flat[0][\n",
      "                                                                 Promo2SinceYear_flat[0][0]       \n",
      "                                                                 State_flat[0][0]                 \n",
      "                                                                 Week_flat[0][0]                  \n",
      "                                                                 Events_flat[0][0]                \n",
      "                                                                 Promo_fw_flat[0][0]              \n",
      "                                                                 Promo_bw_flat[0][0]              \n",
      "                                                                 StateHoliday_fw_flat[0][0]       \n",
      "                                                                 StateHoliday_bw_flat[0][0]       \n",
      "                                                                 SchoolHoliday_fw_flat[0][0]      \n",
      "                                                                 SchoolHoliday_bw_flat[0][0]      \n",
      "                                                                 CompetitionDistance_input[0][0]  \n",
      "                                                                 Max_TemperatureC_input[0][0]     \n",
      "                                                                 Mean_TemperatureC_input[0][0]    \n",
      "                                                                 Min_TemperatureC_input[0][0]     \n",
      "                                                                 Max_Humidity_input[0][0]         \n",
      "                                                                 Mean_Humidity_input[0][0]        \n",
      "                                                                 Min_Humidity_input[0][0]         \n",
      "                                                                 Max_Wind_SpeedKm_h_input[0][0]   \n",
      "                                                                 Mean_Wind_SpeedKm_h_input[0][0]  \n",
      "                                                                 CloudCover_input[0][0]           \n",
      "                                                                 trend_input[0][0]                \n",
      "                                                                 trend_DE_input[0][0]             \n",
      "                                                                 AfterStateHoliday_input[0][0]    \n",
      "                                                                 BeforeStateHoliday_input[0][0]   \n",
      "                                                                 Promo_input[0][0]                \n",
      "                                                                 SchoolHoliday_input[0][0]        \n",
      "==================================================================================================\n",
      "Total params: 56,677\n",
      "Trainable params: 56,677\n",
      "Non-trainable params: 0\n",
      "__________________________________________________________________________________________________\n"
     ]
    }
   ],
   "source": [
    "submodel.summary()"
   ]
  },
  {
   "cell_type": "code",
   "execution_count": null,
   "metadata": {},
   "outputs": [],
   "source": [
    "submodel.save('embeddings_model.hdf5')"
   ]
  },
  {
   "cell_type": "code",
   "execution_count": null,
   "metadata": {},
   "outputs": [],
   "source": []
  }
 ],
 "metadata": {
  "interpreter": {
   "hash": "2f5df795facc5a7dcb3b685d6d18f20e203f2c080728d51cfa77e3f00302d313"
  },
  "kernelspec": {
   "display_name": "Python 3.9.6 64-bit",
   "language": "python",
   "name": "python3"
  },
  "language_info": {
   "codemirror_mode": {
    "name": "ipython",
    "version": 3
   },
   "file_extension": ".py",
   "mimetype": "text/x-python",
   "name": "python",
   "nbconvert_exporter": "python",
   "pygments_lexer": "ipython3",
   "version": "3.9.6"
  }
 },
 "nbformat": 4,
 "nbformat_minor": 4
}
